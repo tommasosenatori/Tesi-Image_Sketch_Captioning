{
 "cells": [
  {
   "cell_type": "code",
   "execution_count": 2,
   "metadata": {},
   "outputs": [],
   "source": [
    "import cv2\n",
    "\n",
    "def show_image(image, window_name=\"Image\"):\n",
    "    cv2.imshow(window_name, image)\n",
    "    cv2.waitKey(0)\n",
    "    cv2.destroyAllWindows()\n",
    "    \n",
    "\n",
    "def convert_to_sketch(image_path, blur_kernel_size=21, divide_scale=256):\n",
    "    # Read the image\n",
    "    image = cv2.imread(image_path)\n",
    "    \n",
    "    # Normal image\n",
    "    show_image(image, \"Normal Image\")\n",
    "\n",
    "    # Convert image to grayscale\n",
    "    gray_image = cv2.cvtColor(image, cv2.COLOR_BGR2GRAY)\n",
    "    show_image(gray_image, \"Grayscale Image\")\n",
    "    \n",
    "    # Invert the grayscale image\n",
    "    inverted_image = 255 - gray_image\n",
    "    show_image(inverted_image, \"Inverted Image\")\n",
    "    \n",
    "    # Blur the inverted image\n",
    "    blurred_image = cv2.GaussianBlur(inverted_image, (21, 21), 0)\n",
    "    show_image(blurred_image, \"Blurred Image\")\n",
    "    \n",
    "    # Apply Dodge blend\n",
    "    sketch = cv2.divide(gray_image, 255 - blurred_image, scale=256)\n",
    "    show_image(sketch, \"Sketch\")\n",
    "    \n",
    "    return sketch\n",
    "\n",
    "\n",
    "image_path = r\"G:\\My Drive\\Tirocinio\\cat.jpg\"\n",
    "sketch = convert_to_sketch(image_path)"
   ]
  }
 ],
 "metadata": {
  "kernelspec": {
   "display_name": "Python 3",
   "language": "python",
   "name": "python3"
  },
  "language_info": {
   "codemirror_mode": {
    "name": "ipython",
    "version": 3
   },
   "file_extension": ".py",
   "mimetype": "text/x-python",
   "name": "python",
   "nbconvert_exporter": "python",
   "pygments_lexer": "ipython3",
   "version": "3.11.4"
  }
 },
 "nbformat": 4,
 "nbformat_minor": 2
}
